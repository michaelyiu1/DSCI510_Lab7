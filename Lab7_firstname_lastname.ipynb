{
 "cells": [
  {
   "cell_type": "markdown",
   "id": "9f0fe8ba",
   "metadata": {},
   "source": [
    "# Lab 7\n",
    "---\n",
    "DSCI 510 (Hermjakob), Spring 2025, USC\n",
    "\n",
    "Hello and welcome to Lab 7.\n",
    "\n",
    "__Guidelines:__\n",
    "\n",
    "- Please write and submit the programs below by the deadline: Monday, March 10, 2025, at 6:00pm Pacific time.\n",
    "\n",
    "- You must complete the assignments individually. If you have trouble completing the assignment, please let the teaching assistant (TA) know, during the lab or office hours. He will help and guide you, but he will not write code for you and no one else should :) !!!  \n",
    "\n",
    "- You have to fill in the code in this notebook and upload it back to Blackboard for submission. Please remember to rename your file as \"Lab7_[YOUR FIRSTNAME]_[YOUR LASTNAME].ipynb\" (e.g. Lab7_George_Washington.ipynb).\n",
    "\n",
    "- You may look up resources online like python docs and stackoverflow. You may look up topics, but not the questions themselves."
   ]
  },
  {
   "cell_type": "markdown",
   "id": "692cff8c",
   "metadata": {},
   "source": [
    "# Q1 [11 points]\n",
    "### Medal standing\n",
    "\n",
    "**Python topics:** requests, csv\n",
    "\n",
    "To process the csv file, you can use the traditional Python approach (as shown in class), or the csv or pandas libraries (which we will get to after the Spring break).\n",
    "\n",
    "Load a medal count file from the internet and print out the top teams sorted by performance.\n",
    "\n",
    "The input medal count file from the web can be assumed to be in csv (comma-separated values) format.<br>\n",
    "The four input data fields per team are the team's name, and its number of gold, silver, and bronze medals, e.g.\n",
    "```\n",
    "Gryffindor,10,6,5\n",
    "Hufflepuff,1,3,4\n",
    "Ravenclaw,6,7,10\n",
    "Slytherin,3,4,1\n",
    "```\n",
    "\n",
    "As an output, the function should print a medal standing of the top teams, \n",
    "with rank, team name, gold, silver, and bronze count, sorted by the teams' overall medal score \n",
    "(2 * number-of-gold-medals + 1.5 * number-of-silver-medals + 1 * number-of-bronze-medals). \n",
    "The number of top teams (e.g. 10) should be an input parameter.\n",
    "Your printout should be in a pretty format (i.e. with columns aligned).\n",
    "\n",
    "Sample print output for top 3 teams:\n",
    "```\n",
    "      Team                G  S  B\n",
    "  (1) Gryffindor         10  6  5\n",
    "  (2) Ravenclaw           6  7 10\n",
    "  (3) Slytherin           3  4  1\n",
    "```\n",
    "\n",
    "Before you start, make sure you have the _requests_ library installed:\n",
    "```\n",
    "pip install requests\n",
    "```"
   ]
  },
  {
   "cell_type": "code",
   "execution_count": null,
   "id": "fe0d0063",
   "metadata": {},
   "outputs": [],
   "source": [
    "import requests\n",
    "def print_medal_standings(csv_url: str, n_teams: int) -> None:\n",
    "    pass  # replace this line with your code\n",
    "\n",
    "# open test data\n",
    "print_medal_standings(\"https://www.dropbox.com/s/dl/x80kix088xspt5v/olympic-medals-2021.csv\", 20)"
   ]
  },
  {
   "cell_type": "markdown",
   "id": "cc00c05a",
   "metadata": {},
   "source": [
    "# Q2: Highlighting with advanced regular expressions \n",
    "## [9 regular points + 6 bonus points]\n",
    "---\n",
    "It is often helpful to highlight portions of a text. This can be done by adding color or other style elementst.<br>\n",
    "Below is an example how to color text with an escape sequence:"
   ]
  },
  {
   "cell_type": "markdown",
   "id": "d8cfa607",
   "metadata": {},
   "source": [
    "### Introduction"
   ]
  },
  {
   "cell_type": "code",
   "execution_count": null,
   "id": "11ee4de4",
   "metadata": {},
   "outputs": [],
   "source": [
    "# Some style and color escape codes ('\\x1B' is the escape character)\n",
    "reset     = '\\x1B[0m'\n",
    "bold      = '\\x1B[1m'\n",
    "underline = '\\x1B[4m'\n",
    "red       = '\\x1B[91m'\n",
    "green     = '\\x1B[92m' \n",
    "yellow    = '\\x1B[93m' \n",
    "blue      = '\\x1B[94m' \n",
    "print(f\"Colors: {red}red{reset}, {green}green{reset}, {blue}blue{reset}, {yellow}yellow{reset}.\")\n",
    "print(f\"Styles: {bold}bold{reset}, {underline}underline{reset}.\")\n",
    "print(f\"Combination: {red}{bold}{underline}red bold underline{reset}.\")"
   ]
  },
  {
   "cell_type": "code",
   "execution_count": null,
   "id": "2b54efc8",
   "metadata": {},
   "outputs": [],
   "source": [
    "# Auxiliary function for exploration, testing and debugging. \n",
    "import unicodedata as ud\n",
    "def print_char_unicode_names(s: str) -> None:\n",
    "    for c in s:\n",
    "        print(f\"{c}  U+{ord(c):04X}  {ud.name(c, '')}\")"
   ]
  },
  {
   "cell_type": "code",
   "execution_count": null,
   "id": "da176540",
   "metadata": {},
   "outputs": [],
   "source": [
    "print_char_unicode_names(\"Q: Παρακαλώ;\")"
   ]
  },
  {
   "cell_type": "markdown",
   "id": "bb0c083e",
   "metadata": {},
   "source": [
    "### Assignment"
   ]
  },
  {
   "cell_type": "markdown",
   "id": "86e56b60",
   "metadata": {},
   "source": [
    "Complete the function _highlight6_ below so it highlights 6 different types of \"items of interest\".\n",
    "\n",
    "1. Highlight floating point numbers (__already done__, as an example)\n",
    "2. Highlight sequences of Greek letters, e.g. α or Τροία. Make sure to exclude non-letters such as Greek punctuation.\n",
    "3. Highlight Latin-script words that contain at least one non-ASCII letter, e.g. Grüße or Österreich.\n",
    "4. Highlight instances of the generic Chinese classifier 个 (U+4E2A) that are __NOT__ preceded by the following standard Western or Chinese number character \\[0123456789一二三四五六七八九十百千万亿兆\\]. \n",
    "5. __(Bonus)__ Highlight words that contain a Devanagari virama (U+094D) such as मेक्सिको or कैलिफोर्निया. Make sure to include other letter modifiers in the word as well. Background: Most Indian languages use so-called abugida scripts, where consonants have a default vowel (typically 'a'); this default vowel can be overwritten by a vowel sign (a type of letter modifier), or by a virama, a letter modifier that cancels the vowel (without replacing it with another vowel). In the _regex_ library, such letter modifiers are covered in \\p{Mark} or \\pM for short. See Python regex resource for relevant examples.\n",
    "6. __(Bonus)__ Highlight words of at least 4 characters, where the first and last characters are the same, and where the second and second last characters are the same, e.g. _reindeer_ or _superstitious_.\n",
    "\n",
    "All 6 highlight operations should be a __single__ regular expression substitution __line__.<br>\n",
    "__Note:__ When using regex set operators, please prefix your regular expression with (?V1). See Python regex resource for examples.<br>\n",
    "__Resource:__ https://uhermjakob.github.io/teaching/python.html<br>\n",
    "__Grading:__ 3 regular points each for 2.-4. above (1. is already done); 3 bonus points each for 5.-6. above. "
   ]
  },
  {
   "cell_type": "code",
   "execution_count": null,
   "id": "1500f72e",
   "metadata": {},
   "outputs": [],
   "source": [
    "import regex\n",
    "\n",
    "def highlight6(text: str) -> str:\n",
    "    # Instead of directly using highlight escape sequences, we use temporary placeholders\n",
    "    # in order not to interfere with any highlighting operations.\n",
    "    text = regex.sub('[\\uE000-\\uE001]', '', text)  # delete any of the following two private use area characters\n",
    "    s = '\\uE000'  # start highlight placeholder character (private use area)\n",
    "    e = '\\uE001'  # end highlight placeholder character (private use area)\n",
    "\n",
    "    # Highlight floats (e.g. 3.14)\n",
    "    text = regex.sub(r'(-?\\d+\\.\\d+)', fr'{s}\\1{e}', text)  # Provided as an example.\n",
    "    \n",
    "    # Highlight sequences of Greek letters\n",
    "    # text = regex.sub(ADD_REGEX_HERE)\n",
    "\n",
    "    # Highlight words with non-ASCII Latin letters\n",
    "    # text = regex.sub(ADD_REGEX_HERE)\n",
    "\n",
    "    # Highlight Chinese classifier 个 if NOT preceded by standard number character.\n",
    "    # text = regex.sub(ADD_REGEX_HERE)\n",
    "\n",
    "    # Highlight words with a Devanagari sign virama\n",
    "    # text = regex.sub(ADD_REGEX_HERE)\n",
    "\n",
    "    # Highlight words where first and last, second and second-last letters are the same.\n",
    "    # text = regex.sub(ADD_REGEX_HERE)\n",
    "      \n",
    "    # Replace private-use-area start/end highlight placeholder characters with actual highlight escape sequences\n",
    "    text = regex.sub(s, '\\x1B[1m\\x1B[91m', text)  # escape sequence for: bold red\n",
    "    text = regex.sub(e, '\\x1B[0m', text)          # escape sequence for: reset\n",
    "    \n",
    "    return text"
   ]
  },
  {
   "cell_type": "code",
   "execution_count": null,
   "id": "f531f01e",
   "metadata": {},
   "outputs": [],
   "source": [
    "open_tests = ['The temperature was 20.5°C (68.9°F).']\n",
    "\n",
    "for test in open_tests:\n",
    "    print(highlight6(test))"
   ]
  }
 ],
 "metadata": {
  "kernelspec": {
   "display_name": "Python 3 (ipykernel)",
   "language": "python",
   "name": "python3"
  },
  "language_info": {
   "codemirror_mode": {
    "name": "ipython",
    "version": 3
   },
   "file_extension": ".py",
   "mimetype": "text/x-python",
   "name": "python",
   "nbconvert_exporter": "python",
   "pygments_lexer": "ipython3",
   "version": "3.11.5"
  }
 },
 "nbformat": 4,
 "nbformat_minor": 5
}
