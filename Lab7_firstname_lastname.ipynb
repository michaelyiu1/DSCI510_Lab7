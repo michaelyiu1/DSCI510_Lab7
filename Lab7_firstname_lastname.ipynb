{
 "cells": [
  {
   "cell_type": "markdown",
   "id": "9f0fe8ba",
   "metadata": {},
   "source": [
    "# Lab 7\n",
    "---\n",
    "DSCI 510 (Hermjakob), Spring 2025, USC\n",
    "\n",
    "Hello and welcome to Lab 7.\n",
    "\n",
    "__Guidelines:__\n",
    "\n",
    "- Please write and submit the programs below by the deadline: Monday, March 10, 2025, at 6:00pm Pacific time.\n",
    "\n",
    "- You must complete the assignments individually. If you have trouble completing the assignment, please let the teaching assistant (TA) know, during the lab or office hours. He will help and guide you, but he will not write code for you and no one else should :) !!!  \n",
    "\n",
    "- You have to fill in the code in this notebook and upload it back to Blackboard for submission. Please remember to rename your file as \"Lab7_[YOUR FIRSTNAME]_[YOUR LASTNAME].ipynb\" (e.g. Lab7_George_Washington.ipynb).\n",
    "\n",
    "- You may look up resources online like python docs and stackoverflow. You may look up topics, but not the questions themselves."
   ]
  },
  {
   "cell_type": "markdown",
   "id": "692cff8c",
   "metadata": {},
   "source": [
    "# Q1 [11 points]\n",
    "### Medal standing\n",
    "\n",
    "**Python topics:** requests, csv\n",
    "\n",
    "To process the csv file, you can use the traditional Python approach (as shown in class), or the csv or pandas libraries (which we will get to after the Spring break).\n",
    "\n",
    "Load a medal count file from the internet and print out the top teams sorted by performance.\n",
    "\n",
    "The input medal count file from the web can be assumed to be in csv (comma-separated values) format.<br>\n",
    "The four input data fields per team are the team's name, and its number of gold, silver, and bronze medals, e.g.\n",
    "```\n",
    "Gryffindor,10,6,5\n",
    "Hufflepuff,1,3,4\n",
    "Ravenclaw,6,7,10\n",
    "Slytherin,3,4,1\n",
    "```\n",
    "\n",
    "As an output, the function should print a medal standing of the top teams, \n",
    "with rank, team name, gold, silver, and bronze count, sorted by the teams' overall medal score \n",
    "(2 * number-of-gold-medals + 1.5 * number-of-silver-medals + 1 * number-of-bronze-medals). \n",
    "The number of top teams (e.g. 10) should be an input parameter.\n",
    "Your printout should be in a pretty format (i.e. with columns aligned).\n",
    "\n",
    "Sample print output for top 3 teams:\n",
    "```\n",
    "      Team                G  S  B\n",
    "  (1) Gryffindor         10  6  5\n",
    "  (2) Ravenclaw           6  7 10\n",
    "  (3) Slytherin           3  4  1\n",
    "```\n",
    "\n",
    "Before you start, make sure you have the _requests_ library installed:\n",
    "```\n",
    "pip install requests\n",
    "```"
   ]
  },
  {
   "cell_type": "code",
   "execution_count": 165,
   "id": "fe0d0063",
   "metadata": {},
   "outputs": [
    {
     "name": "stdout",
     "output_type": "stream",
     "text": [
      "{'Bronze\\r\\nArgentina': {'gold': '0', 'silver': '1', 'bronze': '2'}, 'Armenia': {'gold': '0', 'silver': '2', 'bronze': '2'}, 'Australia': {'gold': '17', 'silver': '7', 'bronze': '22'}, 'Austria': {'gold': '1', 'silver': '1', 'bronze': '5'}, 'Azerbaijan': {'gold': '0', 'silver': '3', 'bronze': '4'}, 'Bahamas': {'gold': '2', 'silver': '0', 'bronze': '0'}, 'Bahrain': {'gold': '0', 'silver': '1', 'bronze': '0'}, 'Belarus': {'gold': '1', 'silver': '3', 'bronze': '3'}, 'Belgium': {'gold': '3', 'silver': '1', 'bronze': '3'}, 'Bermuda': {'gold': '1', 'silver': '0', 'bronze': '0'}, 'Botswana': {'gold': '0', 'silver': '0', 'bronze': '1'}, 'Brazil': {'gold': '7', 'silver': '6', 'bronze': '8'}, 'Bulgaria': {'gold': '3', 'silver': '1', 'bronze': '2'}, 'Burkina Faso': {'gold': '0', 'silver': '0', 'bronze': '1'}, 'Canada': {'gold': '7', 'silver': '6', 'bronze': '11'}, 'China': {'gold': '38', 'silver': '32', 'bronze': '18'}, 'Colombia': {'gold': '0', 'silver': '4', 'bronze': '1'}, 'Croatia': {'gold': '3', 'silver': '3', 'bronze': '2'}, 'Cuba': {'gold': '7', 'silver': '3', 'bronze': '5'}, 'Czech Republic': {'gold': '4', 'silver': '4', 'bronze': '3'}, 'Denmark': {'gold': '3', 'silver': '4', 'bronze': '4'}, 'Dominican Republic': {'gold': '0', 'silver': '3', 'bronze': '2'}, 'Ecuador': {'gold': '2', 'silver': '1', 'bronze': '0'}, 'Egypt': {'gold': '1', 'silver': '1', 'bronze': '4'}, 'Estonia': {'gold': '1', 'silver': '0', 'bronze': '1'}, 'Ethiopia': {'gold': '1', 'silver': '1', 'bronze': '2'}, 'Fiji': {'gold': '1', 'silver': '0', 'bronze': '1'}, 'Finland': {'gold': '0', 'silver': '0', 'bronze': '2'}, 'France': {'gold': '10', 'silver': '12', 'bronze': '11'}, 'Georgia': {'gold': '2', 'silver': '5', 'bronze': '1'}, 'Germany': {'gold': '10', 'silver': '11', 'bronze': '16'}, 'Ghana': {'gold': '0', 'silver': '0', 'bronze': '1'}, 'Great Britain': {'gold': '22', 'silver': '21', 'bronze': '22'}, 'Greece': {'gold': '2', 'silver': '1', 'bronze': '1'}, 'Grenada': {'gold': '0', 'silver': '0', 'bronze': '1'}, 'Hong Kong': {'gold': '1', 'silver': '2', 'bronze': '3'}, 'Hungary': {'gold': '6', 'silver': '7', 'bronze': '7'}, 'India': {'gold': '1', 'silver': '2', 'bronze': '4'}, 'Indonesia': {'gold': '1', 'silver': '1', 'bronze': '3'}, 'Iran': {'gold': '3', 'silver': '2', 'bronze': '2'}, 'Ireland': {'gold': '2', 'silver': '0', 'bronze': '2'}, 'Israel': {'gold': '2', 'silver': '0', 'bronze': '2'}, 'Italy': {'gold': '10', 'silver': '10', 'bronze': '20'}, 'Ivory Coast': {'gold': '0', 'silver': '0', 'bronze': '1'}, 'Jamaica': {'gold': '4', 'silver': '1', 'bronze': '4'}, 'Japan': {'gold': '27', 'silver': '14', 'bronze': '17'}, 'Jordan': {'gold': '0', 'silver': '1', 'bronze': '1'}, 'Kazakhstan': {'gold': '0', 'silver': '0', 'bronze': '8'}, 'Kenya': {'gold': '4', 'silver': '4', 'bronze': '2'}, 'Kosovo': {'gold': '2', 'silver': '0', 'bronze': '0'}, 'Kuwait': {'gold': '0', 'silver': '0', 'bronze': '1'}, 'Kyrgyzstan': {'gold': '0', 'silver': '2', 'bronze': '1'}, 'Latvia': {'gold': '1', 'silver': '0', 'bronze': '1'}, 'Lithuania': {'gold': '0', 'silver': '1', 'bronze': '0'}, 'Malaysia': {'gold': '0', 'silver': '1', 'bronze': '1'}, 'Mexico': {'gold': '0', 'silver': '0', 'bronze': '4'}, 'Moldova': {'gold': '0', 'silver': '0', 'bronze': '1'}, 'Mongolia': {'gold': '0', 'silver': '1', 'bronze': '3'}, 'Morocco': {'gold': '1', 'silver': '0', 'bronze': '0'}, 'Namibia': {'gold': '0', 'silver': '1', 'bronze': '0'}, 'Netherlands': {'gold': '10', 'silver': '12', 'bronze': '14'}, 'New Zealand': {'gold': '7', 'silver': '6', 'bronze': '7'}, 'Nigeria': {'gold': '0', 'silver': '1', 'bronze': '1'}, 'North Macedonia': {'gold': '0', 'silver': '1', 'bronze': '0'}, 'Norway': {'gold': '4', 'silver': '2', 'bronze': '2'}, 'Philippines': {'gold': '1', 'silver': '2', 'bronze': '1'}, 'Poland': {'gold': '4', 'silver': '5', 'bronze': '5'}, 'Portugal': {'gold': '1', 'silver': '1', 'bronze': '2'}, 'Puerto Rico': {'gold': '1', 'silver': '0', 'bronze': '0'}, 'Qatar': {'gold': '2', 'silver': '0', 'bronze': '1'}, 'Romania': {'gold': '1', 'silver': '3', 'bronze': '0'}, 'Russia': {'gold': '20', 'silver': '28', 'bronze': '23'}, 'San Marino': {'gold': '0', 'silver': '1', 'bronze': '2'}, 'Saudi Arabia': {'gold': '0', 'silver': '1', 'bronze': '0'}, 'Serbia': {'gold': '3', 'silver': '1', 'bronze': '5'}, 'Slovakia': {'gold': '1', 'silver': '2', 'bronze': '1'}, 'Slovenia': {'gold': '3', 'silver': '1', 'bronze': '1'}, 'South Africa': {'gold': '1', 'silver': '2', 'bronze': '0'}, 'South Korea': {'gold': '6', 'silver': '4', 'bronze': '10'}, 'Spain': {'gold': '3', 'silver': '8', 'bronze': '6'}, 'Sweden': {'gold': '3', 'silver': '6', 'bronze': '0'}, 'Switzerland': {'gold': '3', 'silver': '4', 'bronze': '6'}, 'Syria': {'gold': '0', 'silver': '0', 'bronze': '1'}, 'Taiwan': {'gold': '2', 'silver': '4', 'bronze': '6'}, 'Thailand': {'gold': '1', 'silver': '0', 'bronze': '1'}, 'Tunisia': {'gold': '1', 'silver': '1', 'bronze': '0'}, 'Turkey': {'gold': '2', 'silver': '2', 'bronze': '9'}, 'Turkmenistan': {'gold': '0', 'silver': '1', 'bronze': '0'}, 'Uganda': {'gold': '2', 'silver': '1', 'bronze': '1'}, 'Ukraine': {'gold': '1', 'silver': '6', 'bronze': '12'}, 'United States': {'gold': '39', 'silver': '41', 'bronze': '33'}, 'USC': {'gold': '11', 'silver': '5', 'bronze': '5'}, 'Uzbekistan': {'gold': '3', 'silver': '0', 'bronze': '2'}, 'Venezuela': {'gold': '1', 'silver': '3', 'bronze': '0'}}\n",
      "     Team               G   S   B\n",
      "(0)  United States      39  41  33  \n",
      "(1)  China              38  32  18  \n",
      "(2)  Russia             20  28  23  \n",
      "(3)  Great Britain      22  21  22  \n",
      "(4)  Japan              27  14  17  \n",
      "(5)  Australia          17  7   22  \n",
      "(6)  Italy              10  10  20  \n",
      "(7)  Germany            10  11  16  \n",
      "(8)  Netherlands        10  12  14  \n",
      "(9)  France             10  12  11  \n",
      "(10) USC                11  5   5   \n",
      "(11) Canada             7   6   11  \n",
      "(12) Brazil             7   6   8   \n",
      "(13) New Zealand        7   6   7   \n",
      "(14) Hungary            6   7   7   \n",
      "(15) South Korea        6   4   10  \n",
      "(16) Spain              3   8   6   \n",
      "(17) Cuba               7   3   5   \n",
      "(18) Ukraine            1   6   12  \n",
      "(19) Poland             4   5   5   \n",
      "(20) Switzerland        3   4   6   \n",
      "(21) Czech Republic     4   4   3   \n",
      "(22) Denmark            3   4   4   \n",
      "(23) Kenya              4   4   2   \n",
      "(24) Taiwan             2   4   6   \n",
      "(25) Turkey             2   2   9   \n",
      "(26) Sweden             3   6   0   \n",
      "(27) Jamaica            4   1   4   \n",
      "(28) Norway             4   2   2   \n",
      "(29) Croatia            3   3   2   \n",
      "(30) Georgia            2   5   1   \n",
      "(31) Serbia             3   1   5   \n",
      "(32) Iran               3   2   2   \n",
      "(33) Belgium            3   1   3   \n",
      "(34) Belarus            1   3   3   \n",
      "(35) Bulgaria           3   1   2   \n",
      "(36) India              1   2   4   \n",
      "(37) Austria            1   1   5   \n",
      "(38) Azerbaijan         0   3   4   \n",
      "(39) Slovenia           3   1   1   \n",
      "(40) Hong Kong          1   2   3   \n",
      "(41) Kazakhstan         0   0   8   \n",
      "(42) Uzbekistan         3   0   2   \n",
      "(43) Egypt              1   1   4   \n",
      "(44) Colombia           0   4   1   \n",
      "(45) Dominican Republic 0   3   2   \n",
      "(46) Greece             2   1   1   \n",
      "(47) Indonesia          1   1   3   \n",
      "(48) Romania            1   3   0   \n",
      "(49) Uganda             2   1   1   \n",
      "(50) Venezuela          1   3   0   \n",
      "(51) Ireland            2   0   2   \n",
      "(52) Israel             2   0   2   \n",
      "(53) Philippines        1   2   1   \n",
      "(54) Slovakia           1   2   1   \n",
      "(55) Ecuador            2   1   0   \n",
      "(56) Ethiopia           1   1   2   \n",
      "(57) Portugal           1   1   2   \n",
      "(58) Armenia            0   2   2   \n",
      "(59) Qatar              2   0   1   \n",
      "(60) South Africa       1   2   0   \n",
      "(61) Mongolia           0   1   3   \n",
      "(62) Bahamas            2   0   0   \n",
      "(63) Kosovo             2   0   0   \n",
      "(64) Kyrgyzstan         0   2   1   \n",
      "(65) Mexico             0   0   4   \n",
      "(66) Bronze\n",
      "Argentina  0   1   2   \n",
      "(67) San Marino         0   1   2   \n",
      "(68) Tunisia            1   1   0   \n",
      "(69) Estonia            1   0   1   \n",
      "(70) Fiji               1   0   1   \n",
      "(71) Latvia             1   0   1   \n",
      "(72) Thailand           1   0   1   \n",
      "(73) Jordan             0   1   1   \n",
      "(74) Malaysia           0   1   1   \n",
      "(75) Nigeria            0   1   1   \n",
      "(76) Bermuda            1   0   0   \n",
      "(77) Finland            0   0   2   \n",
      "(78) Morocco            1   0   0   \n",
      "(79) Puerto Rico        1   0   0   \n",
      "(80) Bahrain            0   1   0   \n",
      "(81) Lithuania          0   1   0   \n",
      "(82) Namibia            0   1   0   \n",
      "(83) North Macedonia    0   1   0   \n",
      "(84) Saudi Arabia       0   1   0   \n",
      "(85) Turkmenistan       0   1   0   \n",
      "(86) Botswana           0   0   1   \n",
      "(87) Burkina Faso       0   0   1   \n",
      "(88) Ghana              0   0   1   \n",
      "(89) Grenada            0   0   1   \n",
      "(90) Ivory Coast        0   0   1   \n",
      "(91) Kuwait             0   0   1   \n",
      "(92) Moldova            0   0   1   \n",
      "(93) Syria              0   0   1   \n"
     ]
    }
   ],
   "source": [
    "import requests\n",
    "import regex\n",
    "import sys\n",
    "\n",
    "def print_medal_standings(csv_url: str, n_teams: int) -> None:\n",
    "    \n",
    "    try:\n",
    "        data = requests.get(csv_url)\n",
    "    except:\n",
    "        return sys.stderr.write('URL not found')\n",
    "    \n",
    "    team_data = regex.findall(r'\\b(\\w+?\\s*\\w+),(\\d+),(\\d+),(\\d+)\\b',data.text)\n",
    "    \n",
    "    #Initialize dictionary for medal count and list of scores\n",
    "    team_medals = dict()\n",
    "    team_scores = []\n",
    "    \n",
    "    for team in team_data:\n",
    "        team_medals[team[0].strip()] = {\n",
    "            'gold': team[1],\n",
    "            'silver': team[2],\n",
    "            'bronze': team[3], \n",
    "        }\n",
    "        team_scores.append((team[0], 2*float(team[1]) + 1.5*float(team[2]) + 1*float(team[3])))\n",
    "    \n",
    "    print(team_medals)\n",
    "    team_scores.sort(key = lambda x: x[1], reverse = True)\n",
    "    spacer = len(max(team_scores, key = lambda x: len(x[0]))[0]) + 1\n",
    "    \n",
    "    scores_table = '     Team' + ' '*(spacer-4) + 'G   S   B'\n",
    "    for i in range(len(team_scores)):\n",
    "        team = team_scores[i][0]\n",
    "        gold = team_medals[team].get('gold')\n",
    "        silver = team_medals[team].get('silver')\n",
    "        bronze = team_medals[team].get('bronze')\n",
    "\n",
    "        spacer0 = ' '*(3 - len(str(i)))\n",
    "        spacer1 = ' '*(spacer - len(team_scores[i][0]))\n",
    "        spacer2 = ' '*(4 - len(gold))\n",
    "        spacer3 = ' '*(4 - len(silver))\n",
    "        spacer4 = ' '*(4 - len(bronze))\n",
    "        scores_table += f'\\n({str(i)}){spacer0}{team}{spacer1}{gold}{spacer2}{silver}{spacer3}{bronze}{spacer4}'\n",
    "\n",
    "    print(scores_table)\n",
    "\n",
    "\n",
    "# open test data\n",
    "print_medal_standings(\"https://www.dropbox.com/s/dl/x80kix088xspt5v/olympic-medals-2021.csv\", 20)"
   ]
  },
  {
   "cell_type": "markdown",
   "id": "cc00c05a",
   "metadata": {},
   "source": [
    "# Q2: Highlighting with advanced regular expressions \n",
    "## [9 regular points + 6 bonus points]\n",
    "---\n",
    "It is often helpful to highlight portions of a text. This can be done by adding color or other style elementst.<br>\n",
    "Below is an example how to color text with an escape sequence:"
   ]
  },
  {
   "cell_type": "markdown",
   "id": "d8cfa607",
   "metadata": {},
   "source": [
    "### Introduction"
   ]
  },
  {
   "cell_type": "code",
   "execution_count": 76,
   "id": "11ee4de4",
   "metadata": {},
   "outputs": [
    {
     "name": "stdout",
     "output_type": "stream",
     "text": [
      "Colors: \u001b[91mred\u001b[0m, \u001b[92mgreen\u001b[0m, \u001b[94mblue\u001b[0m, \u001b[93myellow\u001b[0m.\n",
      "Styles: \u001b[1mbold\u001b[0m, \u001b[4munderline\u001b[0m.\n",
      "Combination: \u001b[91m\u001b[1m\u001b[4mred bold underline\u001b[0m.\n"
     ]
    }
   ],
   "source": [
    "# Some style and color escape codes ('\\x1B' is the escape character)\n",
    "reset     = '\\x1B[0m'\n",
    "bold      = '\\x1B[1m'\n",
    "underline = '\\x1B[4m'\n",
    "red       = '\\x1B[91m'\n",
    "green     = '\\x1B[92m' \n",
    "yellow    = '\\x1B[93m' \n",
    "blue      = '\\x1B[94m' \n",
    "print(f\"Colors: {red}red{reset}, {green}green{reset}, {blue}blue{reset}, {yellow}yellow{reset}.\")\n",
    "print(f\"Styles: {bold}bold{reset}, {underline}underline{reset}.\")\n",
    "print(f\"Combination: {red}{bold}{underline}red bold underline{reset}.\")"
   ]
  },
  {
   "cell_type": "code",
   "execution_count": 84,
   "id": "2b54efc8",
   "metadata": {},
   "outputs": [],
   "source": [
    "# Auxiliary function for exploration, testing and debugging. \n",
    "import unicodedata as ud\n",
    "def print_char_unicode_names(s: str) -> None:\n",
    "    for c in s:\n",
    "        print(f\"{c}  U+{ord(c):04X}  {ud.name(c, '')}\")"
   ]
  },
  {
   "cell_type": "code",
   "execution_count": 90,
   "id": "da176540",
   "metadata": {},
   "outputs": [
    {
     "name": "stdout",
     "output_type": "stream",
     "text": [
      "Q  U+0051  LATIN CAPITAL LETTER Q\n",
      ":  U+003A  COLON\n",
      "   U+0020  SPACE\n",
      "Π  U+03A0  GREEK CAPITAL LETTER PI\n",
      "α  U+03B1  GREEK SMALL LETTER ALPHA\n",
      "ρ  U+03C1  GREEK SMALL LETTER RHO\n",
      "α  U+03B1  GREEK SMALL LETTER ALPHA\n",
      "κ  U+03BA  GREEK SMALL LETTER KAPPA\n",
      "α  U+03B1  GREEK SMALL LETTER ALPHA\n",
      "λ  U+03BB  GREEK SMALL LETTER LAMDA\n",
      "ώ  U+03CE  GREEK SMALL LETTER OMEGA WITH TONOS\n",
      ";  U+037E  GREEK QUESTION MARK\n"
     ]
    }
   ],
   "source": [
    "print_char_unicode_names(\"Q: Παρακαλώ;\")\n",
    "import unicodedata as ud"
   ]
  },
  {
   "cell_type": "markdown",
   "id": "bb0c083e",
   "metadata": {},
   "source": [
    "### Assignment"
   ]
  },
  {
   "cell_type": "markdown",
   "id": "86e56b60",
   "metadata": {},
   "source": [
    "Complete the function _highlight6_ below so it highlights 6 different types of \"items of interest\".\n",
    "\n",
    "1. Highlight floating point numbers (__already done__, as an example)\n",
    "2. Highlight sequences of Greek letters, e.g. α or Τροία. Make sure to exclude non-letters such as Greek punctuation.\n",
    "3. Highlight Latin-script words that contain at least one non-ASCII letter, e.g. Grüße or Österreich.\n",
    "4. Highlight instances of the generic Chinese classifier 个 (U+4E2A) that are __NOT__ preceded by the following standard Western or Chinese number character \\[0123456789一二三四五六七八九十百千万亿兆\\]. \n",
    "5. __(Bonus)__ Highlight words that contain a Devanagari virama (U+094D) such as मेक्सिको or कैलिफोर्निया. Make sure to include other letter modifiers in the word as well. Background: Most Indian languages use so-called abugida scripts, where consonants have a default vowel (typically 'a'); this default vowel can be overwritten by a vowel sign (a type of letter modifier), or by a virama, a letter modifier that cancels the vowel (without replacing it with another vowel). In the _regex_ library, such letter modifiers are covered in \\p{Mark} or \\pM for short. See Python regex resource for relevant examples.\n",
    "6. __(Bonus)__ Highlight words of at least 4 characters, where the first and last characters are the same, and where the second and second last characters are the same, e.g. _reindeer_ or _superstitious_.\n",
    "\n",
    "All 6 highlight operations should be a __single__ regular expression substitution __line__.<br>\n",
    "__Note:__ When using regex set operators, please prefix your regular expression with (?V1). See Python regex resource for examples.<br>\n",
    "__Resource:__ https://uhermjakob.github.io/teaching/python.html<br>\n",
    "__Grading:__ 3 regular points each for 2.-4. above (1. is already done); 3 bonus points each for 5.-6. above. "
   ]
  },
  {
   "cell_type": "code",
   "execution_count": null,
   "id": "1500f72e",
   "metadata": {},
   "outputs": [],
   "source": [
    "import regex\n",
    "\n",
    "def highlight6(text: str) -> str:\n",
    "    # Instead of directly using highlight escape sequences, we use temporary placeholders\n",
    "    # in order not to interfere with any highlighting operations.\n",
    "    text = regex.sub('[\\uE000-\\uE001]', '', text)  # delete any of the following two private use area characters\n",
    "    s = '\\uE000'  # start highlight placeholder character (private use area)\n",
    "    e = '\\uE001'  # end highlight placeholder character (private use area)\n",
    "\n",
    "    # Highlight floats (e.g. 3.14)\n",
    "    text = regex.sub(r'(-?\\d+\\.\\d+)', fr'{s}\\1{e}', text)  # Provided as an example.\n",
    "    \n",
    "    # Highlight sequences of Greek letters\n",
    "    greek = regex.findall(r'[\\u0370-\\u03FF]',text)\n",
    "    print(greek)\n",
    "    text = regex.sub(r'([\\u0370-\\u03FF])',fr'{s}\\1{e}',text)\n",
    "\n",
    "    # Highlight words with non-ASCII Latin letters\n",
    "    text = regex.sub(r'([a-zA-Z]?[^a-zA-Z]+)',fr'{s}\\1{e}',text )\n",
    "\n",
    "    # Highlight Chinese classifier 个 if NOT preceded by standard number character.\n",
    "    # text = regex.sub(ADD_REGEX_HERE)\n",
    "\n",
    "    # Highlight words with a Devanagari sign virama\n",
    "    # text = regex.sub(ADD_REGEX_HERE)\n",
    "\n",
    "    # Highlight words where first and last, second and second-last letters are the same.\n",
    "    # text = regex.sub(ADD_REGEX_HERE)\n",
    "      \n",
    "    # Replace private-use-area start/end highlight placeholder characters with actual highlight escape sequences\n",
    "    text = regex.sub(s, '\\x1B[1m\\x1B[91m', text)  # escape sequence for: bold red\n",
    "    text = regex.sub(e, '\\x1B[0m', text)          # escape sequence for: reset\n",
    "    \n",
    "    return text"
   ]
  },
  {
   "cell_type": "code",
   "execution_count": 153,
   "id": "f531f01e",
   "metadata": {},
   "outputs": [
    {
     "name": "stdout",
     "output_type": "stream",
     "text": [
      "[]\n",
      "The temperature was \u001b[1m\u001b[91m20.5\u001b[0m°C (\u001b[1m\u001b[91m68.9\u001b[0m°F).\n"
     ]
    }
   ],
   "source": [
    "open_tests = ['The temperature was 20.5°C (68.9°F).']\n",
    "\n",
    "for test in open_tests:\n",
    "    print(highlight6(test))"
   ]
  },
  {
   "cell_type": "code",
   "execution_count": 154,
   "id": "6b7339e2",
   "metadata": {},
   "outputs": [
    {
     "name": "stdout",
     "output_type": "stream",
     "text": [
      "['α', 'Τ', 'ρ', 'ο', 'ί', 'α', 'Α', 'λ', 'έ', 'ξ', 'α', 'ν', 'δ', 'ρ', 'ο', 'ς', 'λ', 'ο', 'γ', 'ι', 'κ', 'ή', 'π']\n",
      "Here are some examples to test your solution:\n",
      "\n",
      "1. Floating point numbers: \u001b[1m\u001b[91m3.14159\u001b[0m, \u001b[1m\u001b[91m-42.0\u001b[0m, \u001b[1m\u001b[91m2.71828\u001b[0m\n",
      "2. Greek letters: \u001b[1m\u001b[91mα\u001b[0m, \u001b[1m\u001b[91mΤ\u001b[0m\u001b[1m\u001b[91mρ\u001b[0m\u001b[1m\u001b[91mο\u001b[0m\u001b[1m\u001b[91mί\u001b[0m\u001b[1m\u001b[91mα\u001b[0m, \u001b[1m\u001b[91mΑ\u001b[0m\u001b[1m\u001b[91mλ\u001b[0m\u001b[1m\u001b[91mέ\u001b[0m\u001b[1m\u001b[91mξ\u001b[0m\u001b[1m\u001b[91mα\u001b[0m\u001b[1m\u001b[91mν\u001b[0m\u001b[1m\u001b[91mδ\u001b[0m\u001b[1m\u001b[91mρ\u001b[0m\u001b[1m\u001b[91mο\u001b[0m\u001b[1m\u001b[91mς\u001b[0m, \u001b[1m\u001b[91mλ\u001b[0m\u001b[1m\u001b[91mο\u001b[0m\u001b[1m\u001b[91mγ\u001b[0m\u001b[1m\u001b[91mι\u001b[0m\u001b[1m\u001b[91mκ\u001b[0m\u001b[1m\u001b[91mή\u001b[0m, \u001b[1m\u001b[91mπ\u001b[0m\n",
      "3. Non-ASCII Latin-script words: Grüße, Österreich, résumé, jalapeño\n",
      "4. Chinese classifier 个 (not preceded by numbers or specific characters): 一个人, 十个朋友, 他是个医生, 苹果个个都新鲜\n",
      "5. Devanagari words with virama: मेक्सिको, कैलिफोर्निया, भारत, नमस्ते\n",
      "6. Words with repeated first/last and second/second-last characters: reindeer, superstitious, deified, abba\n",
      "\n"
     ]
    }
   ],
   "source": [
    "test_text = [\"\"\"Here are some examples to test your solution:\n",
    "\n",
    "1. Floating point numbers: 3.14159, -42.0, 2.71828\n",
    "2. Greek letters: α, Τροία, Αλέξανδρος, λογική, π\n",
    "3. Non-ASCII Latin-script words: Grüße, Österreich, résumé, jalapeño\n",
    "4. Chinese classifier 个 (not preceded by numbers or specific characters): 一个人, 十个朋友, 他是个医生, 苹果个个都新鲜\n",
    "5. Devanagari words with virama: मेक्सिको, कैलिफोर्निया, भारत, नमस्ते\n",
    "6. Words with repeated first/last and second/second-last characters: reindeer, superstitious, deified, abba\n",
    "\"\"\"]\n",
    "\n",
    "for test in test_text:\n",
    "    print(highlight6(test))"
   ]
  }
 ],
 "metadata": {
  "kernelspec": {
   "display_name": "base",
   "language": "python",
   "name": "python3"
  },
  "language_info": {
   "codemirror_mode": {
    "name": "ipython",
    "version": 3
   },
   "file_extension": ".py",
   "mimetype": "text/x-python",
   "name": "python",
   "nbconvert_exporter": "python",
   "pygments_lexer": "ipython3",
   "version": "3.11.7"
  }
 },
 "nbformat": 4,
 "nbformat_minor": 5
}
